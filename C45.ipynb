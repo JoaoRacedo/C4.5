{
 "cells": [
  {
   "cell_type": "markdown",
   "metadata": {},
   "source": [
    "# INTELIGENCIA ARTIFICIAL - EVALUACIÓN 1\n",
    "Integrantes: Sebastian Racedo y Sebastian Valle"
   ]
  },
  {
   "cell_type": "code",
   "execution_count": 1,
   "metadata": {},
   "outputs": [],
   "source": [
    "# Libraries Import\n",
    "import math\n",
    "import pandas as pd\n",
    "import numpy as np"
   ]
  },
  {
   "cell_type": "code",
   "execution_count": 2,
   "metadata": {},
   "outputs": [],
   "source": [
    "class Node:\n",
    "    def __init__(self, value):\n",
    "        self.children = []\n",
    "        self.value = value\n",
    "        \n",
    "    def addNode(node):\n",
    "        self.children.push(node)"
   ]
  },
  {
   "cell_type": "code",
   "execution_count": 3,
   "metadata": {},
   "outputs": [],
   "source": [
    "# Read and split data into training and test sets\n",
    "def SplitData(Raw_Data):\n",
    "    data = pd.read_csv(Raw_Data,sep = ';')\n",
    "    [n,m] = data.shape\n",
    "    headers = list(data.columns.values)\n",
    "    X = data.iloc[:,0:m-1]\n",
    "    y = data.iloc[:,m-1]\n",
    "    return data, X, y"
   ]
  },
  {
   "cell_type": "code",
   "execution_count": 4,
   "metadata": {},
   "outputs": [],
   "source": [
    "def Entropy(data):\n",
    "    Size_data = len(data)\n",
    "    if Size_data == 0:\n",
    "        return 0\n",
    "    num_classes = [0 for i in data.iloc[:,-1].dropna().value_counts()]\n",
    "    num_classes = data.iloc[:,-1].dropna().value_counts().tolist()\n",
    "    num_classes = [x/Size_data for x in num_classes]\n",
    "    ent = 0\n",
    "    for num in num_classes:\n",
    "        ent += num*math.log(num,2)\n",
    "    return num*-1"
   ]
  },
  {
   "cell_type": "markdown",
   "metadata": {},
   "source": [
    "## GainRatio DEBE aceptar valores numericos o NO numericos, Actualmente solo sirve para NO numericos"
   ]
  },
  {
   "cell_type": "code",
   "execution_count": 5,
   "metadata": {},
   "outputs": [],
   "source": [
    "def Gain_information(data,headers):\n",
    "    List_entropy = []\n",
    "    List_Sum= []\n",
    "    List_split = []\n",
    "    for attribute in headers[0:len(headers)-1]:\n",
    "        entropy = []\n",
    "        Split = 0\n",
    "        for value in data[attribute].value_counts().index:\n",
    "            # Gain Calculation\n",
    "            Neg_branch = data.loc[(data[attribute] == value) & (data[headers[len(headers)-1]] == 'No')]\n",
    "            Pos_branch  = data.loc[(data[attribute] == value) & (data[headers[len(headers)-1]] == 'Yes')]\n",
    "            Total_branch = [Neg_branch,Pos_branch]\n",
    "            Total_branch = pd.concat(Total_branch)\n",
    "            probability_num = (len(Total_branch)/len(data))\n",
    "            entropy.append(probability_num*Entropy(Total_branch))\n",
    "            Split += probability_num*math.log(probability_num,2)\n",
    "        Split = Split*-1\n",
    "        List_split.append(Split)\n",
    "        Sum_per_branch = sum(entropy)\n",
    "        List_entropy.append(list(entropy))\n",
    "        List_Sum.append(Sum_per_branch)        \n",
    "    \n",
    "    return List_entropy, List_Sum, List_split"
   ]
  },
  {
   "cell_type": "code",
   "execution_count": 6,
   "metadata": {},
   "outputs": [],
   "source": [
    "def CalculateNode(data):\n",
    "    if len(data.unique()) == 1:\n",
    "        return Node(data.unique()[0])\n",
    "    # TODO, base case 2\n",
    "    "
   ]
  },
  {
   "cell_type": "code",
   "execution_count": 7,
   "metadata": {},
   "outputs": [
    {
     "name": "stdout",
     "output_type": "stream",
     "text": [
      "['Outlook', 'Temperature', 'Humidity', 'Windy', 'Play']\n"
     ]
    }
   ],
   "source": [
    "data, X, y = SplitData(\"data.csv\")\n",
    "headers = list(data.columns.values)\n",
    "print(headers)"
   ]
  },
  {
   "cell_type": "code",
   "execution_count": 8,
   "metadata": {
    "scrolled": true
   },
   "outputs": [
    {
     "data": {
      "text/plain": [
       "-0.35714285714285715"
      ]
     },
     "execution_count": 8,
     "metadata": {},
     "output_type": "execute_result"
    }
   ],
   "source": [
    "Global_Entropy = Entropy(data)\n",
    "Global_Entropy"
   ]
  },
  {
   "cell_type": "code",
   "execution_count": 9,
   "metadata": {},
   "outputs": [],
   "source": [
    "entropy_per_branch, Sum_per_branch, Split_per_Branch = Gain_information(data, headers)"
   ]
  },
  {
   "cell_type": "code",
   "execution_count": 10,
   "metadata": {},
   "outputs": [],
   "source": [
    "Gain = np.add(Global_Entropy,Sum_per_branch)"
   ]
  },
  {
   "cell_type": "code",
   "execution_count": 11,
   "metadata": {},
   "outputs": [
    {
     "data": {
      "text/plain": [
       "array([-0.58866979, -0.36508958, -0.35916249, -0.72499525])"
      ]
     },
     "execution_count": 11,
     "metadata": {},
     "output_type": "execute_result"
    }
   ],
   "source": [
    "GainRatio = np.divide(Gain,Split_per_Branch)\n",
    "GainRatio"
   ]
  },
  {
   "cell_type": "code",
   "execution_count": 12,
   "metadata": {},
   "outputs": [
    {
     "data": {
      "text/html": [
       "<div>\n",
       "<style scoped>\n",
       "    .dataframe tbody tr th:only-of-type {\n",
       "        vertical-align: middle;\n",
       "    }\n",
       "\n",
       "    .dataframe tbody tr th {\n",
       "        vertical-align: top;\n",
       "    }\n",
       "\n",
       "    .dataframe thead th {\n",
       "        text-align: right;\n",
       "    }\n",
       "</style>\n",
       "<table border=\"1\" class=\"dataframe\">\n",
       "  <thead>\n",
       "    <tr style=\"text-align: right;\">\n",
       "      <th></th>\n",
       "      <th>Outlook</th>\n",
       "      <th>Temperature</th>\n",
       "      <th>Humidity</th>\n",
       "      <th>Windy</th>\n",
       "      <th>Play</th>\n",
       "    </tr>\n",
       "  </thead>\n",
       "  <tbody>\n",
       "    <tr>\n",
       "      <th>0</th>\n",
       "      <td>Sunny</td>\n",
       "      <td>85</td>\n",
       "      <td>85</td>\n",
       "      <td>False</td>\n",
       "      <td>No</td>\n",
       "    </tr>\n",
       "    <tr>\n",
       "      <th>1</th>\n",
       "      <td>Sunny</td>\n",
       "      <td>80</td>\n",
       "      <td>90</td>\n",
       "      <td>True</td>\n",
       "      <td>No</td>\n",
       "    </tr>\n",
       "    <tr>\n",
       "      <th>2</th>\n",
       "      <td>Overcast</td>\n",
       "      <td>83</td>\n",
       "      <td>86</td>\n",
       "      <td>False</td>\n",
       "      <td>Yes</td>\n",
       "    </tr>\n",
       "    <tr>\n",
       "      <th>3</th>\n",
       "      <td>Rainy</td>\n",
       "      <td>70</td>\n",
       "      <td>96</td>\n",
       "      <td>False</td>\n",
       "      <td>Yes</td>\n",
       "    </tr>\n",
       "    <tr>\n",
       "      <th>4</th>\n",
       "      <td>Rainy</td>\n",
       "      <td>68</td>\n",
       "      <td>80</td>\n",
       "      <td>False</td>\n",
       "      <td>Yes</td>\n",
       "    </tr>\n",
       "    <tr>\n",
       "      <th>5</th>\n",
       "      <td>Rainy</td>\n",
       "      <td>65</td>\n",
       "      <td>70</td>\n",
       "      <td>True</td>\n",
       "      <td>No</td>\n",
       "    </tr>\n",
       "    <tr>\n",
       "      <th>6</th>\n",
       "      <td>Overcast</td>\n",
       "      <td>64</td>\n",
       "      <td>65</td>\n",
       "      <td>True</td>\n",
       "      <td>Yes</td>\n",
       "    </tr>\n",
       "    <tr>\n",
       "      <th>7</th>\n",
       "      <td>Sunny</td>\n",
       "      <td>72</td>\n",
       "      <td>95</td>\n",
       "      <td>False</td>\n",
       "      <td>No</td>\n",
       "    </tr>\n",
       "    <tr>\n",
       "      <th>8</th>\n",
       "      <td>Sunny</td>\n",
       "      <td>69</td>\n",
       "      <td>70</td>\n",
       "      <td>False</td>\n",
       "      <td>Yes</td>\n",
       "    </tr>\n",
       "    <tr>\n",
       "      <th>9</th>\n",
       "      <td>Rainy</td>\n",
       "      <td>75</td>\n",
       "      <td>80</td>\n",
       "      <td>False</td>\n",
       "      <td>Yes</td>\n",
       "    </tr>\n",
       "    <tr>\n",
       "      <th>10</th>\n",
       "      <td>Sunny</td>\n",
       "      <td>75</td>\n",
       "      <td>70</td>\n",
       "      <td>True</td>\n",
       "      <td>Yes</td>\n",
       "    </tr>\n",
       "    <tr>\n",
       "      <th>11</th>\n",
       "      <td>Overcast</td>\n",
       "      <td>72</td>\n",
       "      <td>90</td>\n",
       "      <td>True</td>\n",
       "      <td>Yes</td>\n",
       "    </tr>\n",
       "    <tr>\n",
       "      <th>12</th>\n",
       "      <td>Overcast</td>\n",
       "      <td>81</td>\n",
       "      <td>75</td>\n",
       "      <td>False</td>\n",
       "      <td>Yes</td>\n",
       "    </tr>\n",
       "    <tr>\n",
       "      <th>13</th>\n",
       "      <td>Rainy</td>\n",
       "      <td>71</td>\n",
       "      <td>91</td>\n",
       "      <td>True</td>\n",
       "      <td>No</td>\n",
       "    </tr>\n",
       "  </tbody>\n",
       "</table>\n",
       "</div>"
      ],
      "text/plain": [
       "     Outlook  Temperature  Humidity  Windy Play\n",
       "0      Sunny           85        85  False   No\n",
       "1      Sunny           80        90   True   No\n",
       "2   Overcast           83        86  False  Yes\n",
       "3      Rainy           70        96  False  Yes\n",
       "4      Rainy           68        80  False  Yes\n",
       "5      Rainy           65        70   True   No\n",
       "6   Overcast           64        65   True  Yes\n",
       "7      Sunny           72        95  False   No\n",
       "8      Sunny           69        70  False  Yes\n",
       "9      Rainy           75        80  False  Yes\n",
       "10     Sunny           75        70   True  Yes\n",
       "11  Overcast           72        90   True  Yes\n",
       "12  Overcast           81        75  False  Yes\n",
       "13     Rainy           71        91   True   No"
      ]
     },
     "execution_count": 12,
     "metadata": {},
     "output_type": "execute_result"
    }
   ],
   "source": [
    "data"
   ]
  }
 ],
 "metadata": {
  "kernelspec": {
   "display_name": "Python 3",
   "language": "python",
   "name": "python3"
  },
  "language_info": {
   "codemirror_mode": {
    "name": "ipython",
    "version": 3
   },
   "file_extension": ".py",
   "mimetype": "text/x-python",
   "name": "python",
   "nbconvert_exporter": "python",
   "pygments_lexer": "ipython3",
   "version": "3.7.0"
  }
 },
 "nbformat": 4,
 "nbformat_minor": 2
}
