{
 "cells": [
  {
   "cell_type": "markdown",
   "metadata": {},
   "source": [
    "# INTELIGENCIA ARTIFICIAL - EVALUACIÓN 1\n",
    "Integrantes: Sebastian Racedo y Sebastian Valle"
   ]
  },
  {
   "cell_type": "code",
   "execution_count": 1,
   "metadata": {},
   "outputs": [],
   "source": [
    "# Libraries Import\n",
    "import math\n",
    "import pandas as pd\n",
    "import numpy as np"
   ]
  },
  {
   "cell_type": "code",
   "execution_count": 2,
   "metadata": {},
   "outputs": [],
   "source": [
    "class Node:\n",
    "    def __init__(self, value):\n",
    "        self.children = []\n",
    "        self.value = value\n",
    "        \n",
    "    def addNode(node):\n",
    "        self.children.push(node)"
   ]
  },
  {
   "cell_type": "code",
   "execution_count": 3,
   "metadata": {},
   "outputs": [],
   "source": [
    "# Read and split data into training and test sets\n",
    "def SplitData(Raw_Data):\n",
    "    data = pd.read_csv(Raw_Data,sep = ',')\n",
    "    [n,m] = data.shape\n",
    "    headers = list(data.columns.values)\n",
    "    X = data.iloc[:,0:m-1]\n",
    "    y = data.iloc[:,m-1]\n",
    "    return data, X, y"
   ]
  },
  {
   "cell_type": "code",
   "execution_count": 4,
   "metadata": {},
   "outputs": [],
   "source": [
    "def Entropy(data):\n",
    "    Size_data = len(data)\n",
    "    if Size_data == 0:\n",
    "        return 0\n",
    "    num_classes = [0 for i in data.iloc[:,-1].dropna().value_counts()]\n",
    "    num_classes = data.iloc[:,-1].dropna().value_counts().tolist()\n",
    "    num_classes = [x/Size_data for x in num_classes]\n",
    "    ent = 0\n",
    "    for num in num_classes:\n",
    "        ent += num*math.log(num,2)\n",
    "    return ent*-1"
   ]
  },
  {
   "cell_type": "markdown",
   "metadata": {},
   "source": [
    "## GainRatio DEBE aceptar valores numericos o NO numericos, Actualmente solo sirve para NO numericos"
   ]
  },
  {
   "cell_type": "code",
   "execution_count": 5,
   "metadata": {},
   "outputs": [],
   "source": [
    "def Gain_Ratio(data,headers):\n",
    "    List_entropy = []\n",
    "    List_Sum= []\n",
    "    List_split = []\n",
    "    Global_Entropy = Entropy(data)\n",
    "    print(\"Global entropy = \",Global_Entropy)\n",
    "    for attribute in headers[0:len(headers)-1]:\n",
    "        if (np.issubdtype(data[attribute].dtype, np.number) == False):\n",
    "            entropy = []\n",
    "            Split = 0\n",
    "            for value in data[attribute].value_counts().index:\n",
    "                # Gain Calculation\n",
    "                Neg_branch = data.loc[(data[attribute] == value) & (data[headers[len(headers)-1]] == 'No')]\n",
    "                Pos_branch  = data.loc[(data[attribute] == value) & (data[headers[len(headers)-1]] == 'Yes')]\n",
    "                Total_branch = [Neg_branch,Pos_branch]\n",
    "                Total_branch = pd.concat(Total_branch)\n",
    "                probability_num = (len(Total_branch)/len(data))\n",
    "                entropy.append(probability_num*Entropy(Total_branch))\n",
    "                Split += probability_num*math.log(probability_num,2)\n",
    "            Split = Split*-1\n",
    "            List_split.append(Split)\n",
    "            Sum_per_branch = sum(entropy)\n",
    "            List_entropy.append(list(entropy))\n",
    "            List_Sum.append(Sum_per_branch)\n",
    "        else:\n",
    "            pass\n",
    "            #print(data.sort_values(by = [attribute]))\n",
    "    Gain = np.subtract(Global_Entropy,List_Sum)\n",
    "    GainRatio = np.divide(Gain,List_split)\n",
    "    return GainRatio"
   ]
  },
  {
   "cell_type": "code",
   "execution_count": 6,
   "metadata": {},
   "outputs": [],
   "source": [
    "def CalculateNode(data):\n",
    "    if len(data.unique()) == 1:\n",
    "        return Node(data.unique()[0])\n",
    "    # TODO, base case 2"
   ]
  },
  {
   "cell_type": "code",
   "execution_count": 7,
   "metadata": {},
   "outputs": [
    {
     "name": "stdout",
     "output_type": "stream",
     "text": [
      "['Outlook', 'Temp', 'Humidity', 'Play Golf']\n"
     ]
    }
   ],
   "source": [
    "data, X, y = SplitData(\"Golf_data.csv\")\n",
    "headers = list(data.columns.values)\n",
    "print(headers)"
   ]
  },
  {
   "cell_type": "code",
   "execution_count": 8,
   "metadata": {},
   "outputs": [
    {
     "name": "stdout",
     "output_type": "stream",
     "text": [
      "Global entropy =  0.863120568566631\n",
      "[0.11810628 0.07467011 0.00606734]\n"
     ]
    }
   ],
   "source": [
    "GainRatio = Gain_Ratio(data,headers)\n",
    "print(GainRatio)"
   ]
  },
  {
   "cell_type": "code",
   "execution_count": 9,
   "metadata": {},
   "outputs": [
    {
     "data": {
      "text/plain": [
       "0.1181062751466107"
      ]
     },
     "execution_count": 9,
     "metadata": {},
     "output_type": "execute_result"
    }
   ],
   "source": [
    "GainRatio.max()"
   ]
  },
  {
   "cell_type": "code",
   "execution_count": 10,
   "metadata": {},
   "outputs": [
    {
     "data": {
      "text/html": [
       "<div>\n",
       "<style scoped>\n",
       "    .dataframe tbody tr th:only-of-type {\n",
       "        vertical-align: middle;\n",
       "    }\n",
       "\n",
       "    .dataframe tbody tr th {\n",
       "        vertical-align: top;\n",
       "    }\n",
       "\n",
       "    .dataframe thead th {\n",
       "        text-align: right;\n",
       "    }\n",
       "</style>\n",
       "<table border=\"1\" class=\"dataframe\">\n",
       "  <thead>\n",
       "    <tr style=\"text-align: right;\">\n",
       "      <th></th>\n",
       "      <th>Outlook</th>\n",
       "      <th>Temp</th>\n",
       "      <th>Humidity</th>\n",
       "      <th>Play Golf</th>\n",
       "    </tr>\n",
       "  </thead>\n",
       "  <tbody>\n",
       "    <tr>\n",
       "      <th>0</th>\n",
       "      <td>Rainy</td>\n",
       "      <td>Hot</td>\n",
       "      <td>Normal</td>\n",
       "      <td>No</td>\n",
       "    </tr>\n",
       "    <tr>\n",
       "      <th>1</th>\n",
       "      <td>Sunny</td>\n",
       "      <td>Hot</td>\n",
       "      <td>High</td>\n",
       "      <td>No</td>\n",
       "    </tr>\n",
       "    <tr>\n",
       "      <th>2</th>\n",
       "      <td>Overcast</td>\n",
       "      <td>Hot</td>\n",
       "      <td>Normal</td>\n",
       "      <td>Yes</td>\n",
       "    </tr>\n",
       "    <tr>\n",
       "      <th>3</th>\n",
       "      <td>Rainy</td>\n",
       "      <td>Hot</td>\n",
       "      <td>Normal</td>\n",
       "      <td>Yes</td>\n",
       "    </tr>\n",
       "    <tr>\n",
       "      <th>4</th>\n",
       "      <td>Rainy</td>\n",
       "      <td>Cool</td>\n",
       "      <td>Normal</td>\n",
       "      <td>Yes</td>\n",
       "    </tr>\n",
       "    <tr>\n",
       "      <th>5</th>\n",
       "      <td>Rainy</td>\n",
       "      <td>Cool</td>\n",
       "      <td>High</td>\n",
       "      <td>No</td>\n",
       "    </tr>\n",
       "    <tr>\n",
       "      <th>6</th>\n",
       "      <td>Overcast</td>\n",
       "      <td>Cool</td>\n",
       "      <td>High</td>\n",
       "      <td>Yes</td>\n",
       "    </tr>\n",
       "    <tr>\n",
       "      <th>7</th>\n",
       "      <td>Sunny</td>\n",
       "      <td>Hot</td>\n",
       "      <td>Normal</td>\n",
       "      <td>No</td>\n",
       "    </tr>\n",
       "    <tr>\n",
       "      <th>8</th>\n",
       "      <td>Sunny</td>\n",
       "      <td>Cool</td>\n",
       "      <td>Normal</td>\n",
       "      <td>Yes</td>\n",
       "    </tr>\n",
       "    <tr>\n",
       "      <th>9</th>\n",
       "      <td>Rainy</td>\n",
       "      <td>Cool</td>\n",
       "      <td>Normal</td>\n",
       "      <td>Yes</td>\n",
       "    </tr>\n",
       "    <tr>\n",
       "      <th>10</th>\n",
       "      <td>Sunny</td>\n",
       "      <td>Cool</td>\n",
       "      <td>High</td>\n",
       "      <td>Yes</td>\n",
       "    </tr>\n",
       "    <tr>\n",
       "      <th>11</th>\n",
       "      <td>Overcast</td>\n",
       "      <td>Hot</td>\n",
       "      <td>High</td>\n",
       "      <td>Yes</td>\n",
       "    </tr>\n",
       "    <tr>\n",
       "      <th>12</th>\n",
       "      <td>Overcast</td>\n",
       "      <td>Cool</td>\n",
       "      <td>Normal</td>\n",
       "      <td>Yes</td>\n",
       "    </tr>\n",
       "    <tr>\n",
       "      <th>13</th>\n",
       "      <td>Rainy</td>\n",
       "      <td>Hot</td>\n",
       "      <td>High</td>\n",
       "      <td>Yes</td>\n",
       "    </tr>\n",
       "  </tbody>\n",
       "</table>\n",
       "</div>"
      ],
      "text/plain": [
       "     Outlook  Temp Humidity Play Golf\n",
       "0      Rainy   Hot   Normal        No\n",
       "1      Sunny   Hot     High        No\n",
       "2   Overcast   Hot   Normal       Yes\n",
       "3      Rainy   Hot   Normal       Yes\n",
       "4      Rainy  Cool   Normal       Yes\n",
       "5      Rainy  Cool     High        No\n",
       "6   Overcast  Cool     High       Yes\n",
       "7      Sunny   Hot   Normal        No\n",
       "8      Sunny  Cool   Normal       Yes\n",
       "9      Rainy  Cool   Normal       Yes\n",
       "10     Sunny  Cool     High       Yes\n",
       "11  Overcast   Hot     High       Yes\n",
       "12  Overcast  Cool   Normal       Yes\n",
       "13     Rainy   Hot     High       Yes"
      ]
     },
     "execution_count": 10,
     "metadata": {},
     "output_type": "execute_result"
    }
   ],
   "source": [
    "data"
   ]
  }
 ],
 "metadata": {
  "kernelspec": {
   "display_name": "Python 3",
   "language": "python",
   "name": "python3"
  },
  "language_info": {
   "codemirror_mode": {
    "name": "ipython",
    "version": 3
   },
   "file_extension": ".py",
   "mimetype": "text/x-python",
   "name": "python",
   "nbconvert_exporter": "python",
   "pygments_lexer": "ipython3",
   "version": "3.7.0"
  }
 },
 "nbformat": 4,
 "nbformat_minor": 2
}
