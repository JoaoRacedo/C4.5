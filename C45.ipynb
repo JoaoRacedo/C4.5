{
 "cells": [
  {
   "cell_type": "markdown",
   "metadata": {},
   "source": [
    "# INTELIGENCIA ARTIFICIAL - EVALUACIÓN 1\n",
    "Integrantes: Sebastian Racedo y Sebastian Valle"
   ]
  },
  {
   "cell_type": "markdown",
   "metadata": {},
   "source": [
    "Primero importaremos las librerias que necesitarems para llevar a cabo la implementación de nuestro algoritmo.\n",
    " - Usaremos la libreria math para operaciones matematicas al momento de calcular la entropia\n",
    " - Usaremos la libreria pandas para poder manejar los datasets de una manera optima\n",
    " - Usaremos la libreria numpy para las operaciones con matrices"
   ]
  },
  {
   "cell_type": "code",
   "execution_count": 1,
   "metadata": {},
   "outputs": [],
   "source": [
    "# Libraries Import\n",
    "import math\n",
    "import pandas as pd\n",
    "import numpy as np\n",
    "import copy"
   ]
  },
  {
   "cell_type": "markdown",
   "metadata": {},
   "source": [
    "Las librerías `networkx` y `matplotlib` se usan para dibujar los árboles resultantes."
   ]
  },
  {
   "cell_type": "code",
   "execution_count": 2,
   "metadata": {},
   "outputs": [],
   "source": [
    "import networkx as nx\n",
    "from networkx.drawing.nx_agraph import write_dot, graphviz_layout\n",
    "import matplotlib.pyplot as plt"
   ]
  },
  {
   "cell_type": "markdown",
   "metadata": {},
   "source": [
    "La clase `Node` representa un nodo en el árbol de decisión, contiene la entropía de la clasificación, el nombre del atributo que clasifica cada nodo, y el valor del atributo con el cuál se llega a ese nodo.\n",
    "\n",
    "También contiene el valor final de la decisión dado el caso que sea un nodo final."
   ]
  },
  {
   "cell_type": "code",
   "execution_count": 3,
   "metadata": {},
   "outputs": [],
   "source": [
    "class Node:\n",
    "    def __init__(self, entropy_value, attribute_name, attribute_value,\n",
    "                 is_final_decision, \n",
    "                 parent, \n",
    "                 is_numeric, \n",
    "                 comparison_mode, \n",
    "                 decision_value=\"-\"):\n",
    "        self.children = []\n",
    "        self.entropy_value = entropy_value\n",
    "        self.decision_value = decision_value\n",
    "        self.attribute_name = attribute_name\n",
    "        self.attribute_value = attribute_value\n",
    "        self.parent = parent\n",
    "        self.is_final_decision = is_final_decision\n",
    "        self.is_numeric = is_numeric\n",
    "        self.comparison_mode = comparison_mode\n",
    "        \n",
    "    def addChild(self, node):\n",
    "        self.children.append(node)\n",
    "        \n",
    "    def getDecisionValues(self):\n",
    "        if self.is_final_decision:\n",
    "            return [self.decision_value]\n",
    "        \n",
    "        values = set()\n",
    "        for child in self.children:\n",
    "            child_values = child.getDecisionValues()\n",
    "            values = values.union(child_values)\n",
    "        return values\n",
    "        \n",
    "    def areAllChildrenEqual(self):\n",
    "        if len(self.children) == 0:\n",
    "            return True\n",
    "        \n",
    "        values = self.getDecisionValues()\n",
    "        return len(values) == 1\n",
    "    \n",
    "    def areAllChildrenLeafs(self):\n",
    "        leafs = True\n",
    "        for child in self.children:\n",
    "            leafs = leafs and child.is_final_decision\n",
    "        return leafs"
   ]
  },
  {
   "cell_type": "markdown",
   "metadata": {},
   "source": [
    "La función SplitData recibe como entrada un archivo csv que contiene la informacion del dataset y se encarga de separarla y convertirla en un dataframe lo que la hace mas manejable.\n",
    "* Input: RawData (Data cruda)\n",
    "* Output: data convertida en un dataframe, X siendo una matriz que contiene todos los atributos del dataset y Y siendo un vector columna con el atributo a predecir"
   ]
  },
  {
   "cell_type": "code",
   "execution_count": 4,
   "metadata": {},
   "outputs": [],
   "source": [
    "# Read and split data into training and test sets\n",
    "def SplitData(Raw_Data):\n",
    "    data = pd.read_csv(Raw_Data,sep = ',')\n",
    "    [n,m] = data.shape\n",
    "    headers = list(data.columns.values)\n",
    "    X = data.iloc[:,0:m-1]\n",
    "    y = data.iloc[:,m-1]\n",
    "    return data, X, y"
   ]
  },
  {
   "cell_type": "markdown",
   "metadata": {},
   "source": [
    "La función Entropy calcula la entropia de la data ingresada mediante la formula: \n",
    "$$ Entropy= -\\sum_j p_j*log_2(p_j) $$\n",
    "Where $p_j$ is the number of ocurrences by events divide by the total number of elements in the dataset"
   ]
  },
  {
   "cell_type": "code",
   "execution_count": 5,
   "metadata": {},
   "outputs": [],
   "source": [
    "def Entropy(data):\n",
    "    Size_data = len(data)\n",
    "    if Size_data == 0:\n",
    "        return 0\n",
    "    num_classes = [0 for i in data.iloc[:,-1].dropna().value_counts()]\n",
    "    num_classes = data.iloc[:,-1].dropna().value_counts().tolist()\n",
    "    num_classes = [x/Size_data for x in num_classes]\n",
    "    ent = 0\n",
    "    for num in num_classes:\n",
    "        ent += num*math.log(num,2)\n",
    "    return ent*-1"
   ]
  },
  {
   "cell_type": "markdown",
   "metadata": {},
   "source": [
    "La función Gain_Ratio recibe como entrada los data a los cuales se le va a calcular la proporción de ganancia y los headers que son los nombres de cada atributo. \n",
    "\n",
    "Para calcular las proporciones de ganancia usamos las formulas:\n",
    "\n",
    "Para la ganancia\n",
    "\n",
    "$$ ganacia = \\text{entropia original G} - \\text{ entropia despues de separación por atributo A} $$\n",
    "\n",
    "La formula de proporción de ganancia es:\n",
    "\n",
    "$$\\text{Gain Ratio} = \\frac{ganancia(G,A)}{SplitInfo(G,A)}$$\n",
    "\n",
    "Donde $SplitInfo(G,A)$ viene de\n",
    "\n",
    "$$SplitInfo(G,A) = - \\sum^J_{j=1}\\frac{|G_j|}{|G|}log_2\\frac{|G_j|}{|G|} $$\n",
    "\n",
    "Donde $G_j$ es el numero de valores por atributo\n",
    "\n",
    "\n",
    "Los datos pueden ser tanto nomiales como continuos. \n",
    "- Si los datos son nominales:\n",
    "    - Se divide la data en atributos y por cada atributo se sacan sus valores, a estos valores se les calcula su entropia y se decide cual tiene una mayor proporción de ganancia.\n",
    "- Si los datos son continuos\n",
    "    - Se busca un valor umbral entre los valores posibles que maximice la ganancia cuando se dividen los datos en `<= Umbral` y `> Umbral`\n",
    "\n",
    "La función retorna un vector con la proporción de ganancia por atributo, junto con sus valores, y los valores de umbrales encontrados para atributos continuos."
   ]
  },
  {
   "cell_type": "code",
   "execution_count": 6,
   "metadata": {},
   "outputs": [],
   "source": [
    "def Gain_Ratio(data,headers):\n",
    "    List_entropy = []\n",
    "    List_Sum= []\n",
    "    List_split = []\n",
    "    List_values_Per_Attribute = [] \n",
    "    Global_Entropy = Entropy(data)\n",
    "    Numeric_Maximums = {}\n",
    "    for attribute in headers[0:len(headers)-1]:\n",
    "        if (np.issubdtype(data[attribute].dtype, np.number) == False):\n",
    "            entropy = []\n",
    "            values = []\n",
    "            Split = 0\n",
    "            for value in data[attribute].value_counts().index:\n",
    "                # Gain Calculation\n",
    "                values.append(value)\n",
    "                Neg_branch = data.loc[(data[attribute] == value) & \n",
    "                                      (data[headers[len(headers)-1]] == 'No')]\n",
    "                Pos_branch  = data.loc[(data[attribute] == value) & \n",
    "                                       (data[headers[len(headers)-1]] == 'Yes')]\n",
    "                Total_branch = [Neg_branch,Pos_branch]\n",
    "                Total_branch = pd.concat(Total_branch)\n",
    "                probability_num = (len(Total_branch)/len(data))\n",
    "                entropy.append(probability_num*Entropy(Total_branch))\n",
    "                if probability_num != 0:\n",
    "                    Split += probability_num*math.log(probability_num,2)\n",
    "            Split = Split*-1\n",
    "            List_values_Per_Attribute.append(list(values))\n",
    "            List_split.append(Split)\n",
    "            Sum_per_branch = sum(entropy)\n",
    "            List_entropy.append(list(entropy))\n",
    "            List_Sum.append(Sum_per_branch)\n",
    "        else:\n",
    "            sorted_data = data.sort_values(by=[attribute])\n",
    "            # Find the threshold that gives the highest probability\n",
    "            entropy = []\n",
    "            values = []\n",
    "            Split = 0\n",
    "            for value in data[attribute].value_counts().index:\n",
    "                # Gain Calculation\n",
    "                values.append(value)\n",
    "                Neg_branch = data.loc[(data[attribute] <= value) & \n",
    "                                      (data[headers[len(headers)-1]] == 'No')]\n",
    "                Pos_branch  = data.loc[(data[attribute] > value) & \n",
    "                                       (data[headers[len(headers)-1]] == 'Yes')]\n",
    "                Total_branch = [Neg_branch,Pos_branch]\n",
    "                Total_branch = pd.concat(Total_branch)\n",
    "                probability_num = (len(Total_branch)/len(data))\n",
    "                entropy.append(probability_num*Entropy(Total_branch))\n",
    "                if probability_num != 0:\n",
    "                    Split += probability_num*math.log(probability_num,2)\n",
    "            Split = Split*-1\n",
    "            List_values_Per_Attribute.append(list(values))\n",
    "            List_split.append(Split)\n",
    "            if len(entropy) == 0:\n",
    "                Sum_per_branch = 0\n",
    "            else:\n",
    "                Sum_per_branch = np.amax(entropy)\n",
    "            List_Sum.append(Sum_per_branch)\n",
    "            if len(entropy) == 0:\n",
    "                threshold = 0\n",
    "            else:\n",
    "                idx = np.where(entropy == Sum_per_branch)\n",
    "                threshold = sorted_data[attribute].iloc[idx[0]].iloc[0]\n",
    "            #print(\"Threshold: \" + str(threshold))\n",
    "            Numeric_Maximums[attribute] = float(threshold)\n",
    "            #print(Numeric_Maximums)\n",
    "            \n",
    "    Gain = np.subtract(Global_Entropy,List_Sum)\n",
    "    for i in range(len(List_split)):\n",
    "        if List_split[i] == 0:\n",
    "            List_split[i] = 1\n",
    "    GainRatio = np.divide(Gain,List_split)\n",
    "    return GainRatio, List_values_Per_Attribute, Numeric_Maximums"
   ]
  },
  {
   "cell_type": "markdown",
   "metadata": {},
   "source": [
    "La función SplitAttributes recibe como entrada la data que se dividira junto con los headers de esta, este algoritmo funciona de forma recursiva. Primero se llamara la función Gain_Ratio la cual calculara las proporciones de ganancia, despues se escogere el atributo con la mayor proporción de ganancia y se escogeran sus valores. Despues estos seran pasados a la función GetSubs la cual se encargara de sacaran **los subconjuntos de acuerdo a los valores del atributo que tuvo la mayor proporción de ganancia**, y con estos se volvera a llamar a la función SplitAttributes."
   ]
  },
  {
   "cell_type": "code",
   "execution_count": 7,
   "metadata": {},
   "outputs": [],
   "source": [
    "def SplitAttributes(RemainingData, \n",
    "                    headers, \n",
    "                    parent, \n",
    "                    leading_value, \n",
    "                    comparison_mode):\n",
    "    headers = list(RemainingData.columns.values)\n",
    "    split_values = []\n",
    "    if len(headers) == 1:\n",
    "        if len(RemainingData) == 0:\n",
    "            decision = \"-\" # Can not decide\n",
    "        else:\n",
    "            decision = RemainingData.mode().iloc[0, -1]\n",
    "        node = Node(decision_value=decision, entropy_value=0, \n",
    "                    attribute_name=\"Final Decision\", attribute_value=leading_value, \n",
    "                    parent=parent, is_final_decision=True, is_numeric=False,\n",
    "                    comparison_mode=comparison_mode)\n",
    "        parent.addChild(node)\n",
    "        return None\n",
    "    else:\n",
    "        GainRatio, values, Numeric_Maximums = Gain_Ratio(RemainingData,headers)\n",
    "        index = np.argmax(GainRatio)\n",
    "        GainPos = GainRatio[index]\n",
    "        Best_Attribute = headers[index]\n",
    "        Best_Values = values[index]\n",
    "        is_numeric = np.issubdtype(data[Best_Attribute].dtype, np.number)\n",
    "        \n",
    "        node = Node(entropy_value=GainPos, attribute_name=Best_Attribute, \n",
    "                    attribute_value=leading_value, parent=parent, \n",
    "                    is_final_decision=False, is_numeric=is_numeric, \n",
    "                    comparison_mode=comparison_mode)\n",
    "        parent.addChild(node)\n",
    "        Subs = GetSubs(RemainingData, Best_Attribute, Best_Values, \n",
    "                       is_numeric, Numeric_Maximums.get(Best_Attribute, None))\n",
    "        # Numeric attributes are based on a \n",
    "        # less-than split, instead of an equality one\n",
    "        if is_numeric:\n",
    "            return [SplitAttributes(Subs[i][\"data\"], headers, \n",
    "                                    node, Numeric_Maximums[Best_Attribute], \n",
    "                                    Subs[i][\"comparison\"]) \n",
    "                    for i in range(len(Subs))]\n",
    "        else:\n",
    "            return [SplitAttributes(Subs[i][\"data\"], headers,\n",
    "                                    node, Subs[i][\"val\"], None) \n",
    "                    for i in range(len(Subs))]"
   ]
  },
  {
   "cell_type": "markdown",
   "metadata": {},
   "source": [
    "La función GetSubs recibe como entrada la data actual, el mejor atributo calculado de la función SplitAttribites y los valores asociados a ese atributo, y devuelve una colección de los dataframes asociados a esos valores."
   ]
  },
  {
   "cell_type": "code",
   "execution_count": 8,
   "metadata": {
    "slideshow": {
     "slide_type": "-"
    }
   },
   "outputs": [],
   "source": [
    "def GetSubs(data, Best_Attribute, Best_Values, is_numeric, threshold_value=None):\n",
    "    data_temp = data.copy()\n",
    "    dataframe_collection = {} \n",
    "    if is_numeric:\n",
    "        data_less_than = data_temp[data_temp[Best_Attribute] <= threshold_value]\n",
    "        data_less_than = data_less_than.drop(columns= [Best_Attribute])\n",
    "        dataframe_collection[0] = {\"comparison\": \"LessEqual\", \n",
    "                                   \"val\": threshold_value, \n",
    "                                   \"data\": data_less_than}\n",
    "        data_greater_than = data_temp[data_temp[Best_Attribute] > threshold_value]\n",
    "        data_greater_than = data_greater_than.drop(columns= [Best_Attribute])\n",
    "        dataframe_collection[1] = {\"comparison\": \"GreaterThan\",\n",
    "                                   \"val\": threshold_value, \n",
    "                                   \"data\": data_greater_than}\n",
    "    else:\n",
    "        for i in range(len(Best_Values)):\n",
    "            data_equal = data_temp[data_temp[Best_Attribute] == Best_Values[i]]\n",
    "            data_equal = data_equal.drop(columns= [Best_Attribute])\n",
    "            dataframe_collection[i] = {\"val\": Best_Values[i], \n",
    "                                       \"data\": data_equal}\n",
    "    return dataframe_collection"
   ]
  },
  {
   "cell_type": "code",
   "execution_count": 9,
   "metadata": {
    "scrolled": true
   },
   "outputs": [
    {
     "name": "stdout",
     "output_type": "stream",
     "text": [
      "['Outlook', 'Temperature', 'Humidity', 'Windy', 'Play']\n"
     ]
    }
   ],
   "source": [
    "data, X, y = SplitData(\"data.csv\")\n",
    "headers = list(data.columns.values)\n",
    "print(headers)"
   ]
  },
  {
   "cell_type": "markdown",
   "metadata": {},
   "source": [
    "Separamos los datos en dos conjuntos, uno para entrenamiento y uno para verificación. El conjunto de verificación tiene 30% de los datos y el de entrenamiento el 70%."
   ]
  },
  {
   "cell_type": "code",
   "execution_count": 10,
   "metadata": {},
   "outputs": [
    {
     "name": "stdout",
     "output_type": "stream",
     "text": [
      "Train data:\n",
      "     Outlook  Temperature  Humidity  Windy Play\n",
      "4      Rainy           68        80  False  Yes\n",
      "5      Rainy           65        70   True   No\n",
      "6   Overcast           64        65   True  Yes\n",
      "7      Sunny           72        95  False   No\n",
      "8      Sunny           69        70  False  Yes\n",
      "9      Rainy           75        80  False  Yes\n",
      "10     Sunny           75        70   True  Yes\n",
      "11  Overcast           72        90   True  Yes\n",
      "12  Overcast           81        75  False  Yes\n",
      "13     Rainy           71        91   True   No\n"
     ]
    }
   ],
   "source": [
    "size = len(data)\n",
    "test_size = math.floor(0.3 * size)\n",
    "\n",
    "test_data = data.iloc[:test_size, :]\n",
    "train_data = data.iloc[test_size:, :]\n",
    "data_temp = train_data\n",
    "print(\"Train data:\")\n",
    "print(train_data)"
   ]
  },
  {
   "cell_type": "code",
   "execution_count": 11,
   "metadata": {},
   "outputs": [],
   "source": [
    "def PrintTree(root, level=0):\n",
    "    if root.is_final_decision:\n",
    "        if root.parent is not None and root.parent.is_numeric:\n",
    "            print(\"{} When {} is {} {} then Decision: {}\".format(\"--\" * level, \n",
    "                                                                 root.parent.attribute_name, \n",
    "                                                                 root.comparison_mode, \n",
    "                                                                 root.attribute_value, \n",
    "                                                                 root.decision_value))\n",
    "        elif root.parent is not None:\n",
    "            print(\"{} When {} is {} then Decision: {}\".format(\"--\" * level, \n",
    "                                                              root.parent.attribute_name,\n",
    "                                                              root.attribute_value, \n",
    "                                                              root.decision_value))\n",
    "    else:\n",
    "        if root.parent is not None and root.parent.is_numeric:\n",
    "            print(\"{} When {} is {} {} then check {}. Prunable: {}\".format(\"--\" * level, \n",
    "                                                                           root.parent.attribute_name, \n",
    "                                                                           root.comparison_mode, \n",
    "                                                                           root.attribute_value,\n",
    "                                                                           root.attribute_name, \n",
    "                                                                           root.areAllChildrenEqual()))\n",
    "        elif root.parent is not None:\n",
    "            print(\"{} When {} is {} then check {}. Prunable: {}\".format(\"--\" * level, \n",
    "                                                                        root.parent.attribute_name, \n",
    "                                                                        root.attribute_value, \n",
    "                                                                        root.attribute_name, \n",
    "                                                                        root.areAllChildrenEqual()))\n",
    "    for child in root.children:\n",
    "        PrintTree(child, level + 1)"
   ]
  },
  {
   "cell_type": "markdown",
   "metadata": {},
   "source": [
    "La función `CompressTree` elimina ramas redundantes y las convierte en un solo nodo de decisión."
   ]
  },
  {
   "cell_type": "code",
   "execution_count": 12,
   "metadata": {},
   "outputs": [],
   "source": [
    "def CompressTree(root):\n",
    "    if root.areAllChildrenEqual():\n",
    "        values = list(root.getDecisionValues())\n",
    "        value = values[0]\n",
    "        root.children = []\n",
    "        root.is_final_decision = True\n",
    "        root.decision_value = value\n",
    "        root.entropy_value = 0\n",
    "        root.attribute_name = \"Final Decision\"\n",
    "    \n",
    "    for child in root.children:\n",
    "        CompressTree(child)"
   ]
  },
  {
   "cell_type": "code",
   "execution_count": 13,
   "metadata": {
    "scrolled": false
   },
   "outputs": [
    {
     "name": "stdout",
     "output_type": "stream",
     "text": [
      "Tree before compression\n",
      "-- When -Root- is 0 then check Humidity. Prunable: False\n",
      "---- When Humidity is LessEqual 65.0 then check Outlook. Prunable: True\n",
      "------ When Outlook is Overcast then check Temperature. Prunable: True\n",
      "-------- When Temperature is LessEqual 64.0 then check Windy. Prunable: True\n",
      "---------- When Windy is True then Decision: Yes\n",
      "-------- When Temperature is GreaterThan 64.0 then check Windy. Prunable: True\n",
      "---- When Humidity is GreaterThan 65.0 then check Outlook. Prunable: False\n",
      "------ When Outlook is Rainy then check Windy. Prunable: False\n",
      "-------- When Windy is True then check Temperature. Prunable: True\n",
      "---------- When Temperature is LessEqual 65.0 then Decision: No\n",
      "---------- When Temperature is GreaterThan 65.0 then Decision: No\n",
      "-------- When Windy is False then check Temperature. Prunable: True\n",
      "---------- When Temperature is LessEqual 68.0 then Decision: Yes\n",
      "---------- When Temperature is GreaterThan 68.0 then Decision: Yes\n",
      "------ When Outlook is Sunny then check Windy. Prunable: False\n",
      "-------- When Windy is False then check Temperature. Prunable: False\n",
      "---------- When Temperature is LessEqual 69.0 then Decision: Yes\n",
      "---------- When Temperature is GreaterThan 69.0 then Decision: No\n",
      "-------- When Windy is True then check Temperature. Prunable: False\n",
      "---------- When Temperature is LessEqual 75.0 then Decision: Yes\n",
      "---------- When Temperature is GreaterThan 75.0 then Decision: -\n",
      "------ When Outlook is Overcast then check Temperature. Prunable: True\n",
      "-------- When Temperature is LessEqual 72.0 then check Windy. Prunable: True\n",
      "---------- When Windy is True then Decision: Yes\n",
      "-------- When Temperature is GreaterThan 72.0 then check Windy. Prunable: True\n",
      "---------- When Windy is False then Decision: Yes\n",
      "\n",
      "Tree after compression\n",
      "-- When -Root- is 0 then check Humidity. Prunable: False\n",
      "---- When Humidity is LessEqual 65.0 then Decision: Yes\n",
      "---- When Humidity is GreaterThan 65.0 then check Outlook. Prunable: False\n",
      "------ When Outlook is Rainy then check Windy. Prunable: False\n",
      "-------- When Windy is True then Decision: No\n",
      "-------- When Windy is False then Decision: Yes\n",
      "------ When Outlook is Sunny then check Windy. Prunable: False\n",
      "-------- When Windy is False then check Temperature. Prunable: False\n",
      "---------- When Temperature is LessEqual 69.0 then Decision: Yes\n",
      "---------- When Temperature is GreaterThan 69.0 then Decision: No\n",
      "-------- When Windy is True then check Temperature. Prunable: False\n",
      "---------- When Temperature is LessEqual 75.0 then Decision: Yes\n",
      "---------- When Temperature is GreaterThan 75.0 then Decision: -\n",
      "------ When Outlook is Overcast then Decision: Yes\n"
     ]
    }
   ],
   "source": [
    "root = Node(attribute_name='-Root-', entropy_value=0, \n",
    "            parent=None, attribute_value=None, \n",
    "            is_numeric=False, \n",
    "            is_final_decision=False, \n",
    "            comparison_mode=None)\n",
    "Splitter = SplitAttributes(data_temp, headers, root, 0, None)\n",
    "Splitter\n",
    "\n",
    "print(\"Tree before compression\")\n",
    "PrintTree(root)\n",
    "\n",
    "# Compress the tree to remove redundant branches\n",
    "CompressTree(root)\n",
    "\n",
    "print()\n",
    "print(\"Tree after compression\")\n",
    "PrintTree(root)"
   ]
  },
  {
   "cell_type": "markdown",
   "metadata": {},
   "source": [
    "La función `PruneTree` toma como argumentos el árbol, los datos, y un valor alfa que define el intervalo de confianza a usar para podar el árbol.\n",
    "Recursivamente recorre el árbol, cuando encuentra que un nodo cercano a las hojas tendría menos error si se convierte directamente a un nodo de decisión final, entonces lo hace y elimina esa rama.\n",
    "\n",
    "Los valores de `confidence` para algunos porcentajes de confianza son:\n",
    "\n",
    "\n",
    "| Alfa | % Confianza |\n",
    "| --- | --- |\n",
    "| 0.67 | 50% |\n",
    "| 1 | 68% |\n",
    "| 1.64 | 90% |\n",
    "| 1.96 | 95% |"
   ]
  },
  {
   "cell_type": "code",
   "execution_count": 14,
   "metadata": {},
   "outputs": [],
   "source": [
    "def PruneTree(root, data, confidence):\n",
    "    if root.parent is None:\n",
    "        for child in root.children:\n",
    "            PruneTree(child, data, confidence)\n",
    "        return\n",
    "    \n",
    "    if len(root.children) == 0:\n",
    "        assert(root.is_final_decision)\n",
    "        \n",
    "        # Leaf node, calculate errors\n",
    "        corrects = len(data[(data[data.columns[-1]] == root.decision_value)])\n",
    "        errors = len(data[(data[data.columns[-1]] != root.decision_value)])\n",
    "        N = errors + corrects\n",
    "        if N == 0:\n",
    "            N = 1\n",
    "        error_rate = errors / N\n",
    "        p = error_rate + confidence * math.sqrt(error_rate * (1 - error_rate) / N)\n",
    "        return p\n",
    "    \n",
    "    total_p = 0\n",
    "    for child in root.children:\n",
    "        if root.is_numeric:\n",
    "            if child.comparison_mode == \"LessEqual\":\n",
    "                filtered_data = data[data[root.attribute_name] <= child.attribute_value]\n",
    "            else:\n",
    "                filtered_data = data[data[root.attribute_name] > child.attribute_value]\n",
    "        else:\n",
    "            filtered_data = data[data[root.attribute_name] == child.attribute_value]\n",
    "        p = PruneTree(child, filtered_data, confidence)\n",
    "        total_p = total_p + p\n",
    "        \n",
    "    average_p = total_p / len(root.children)\n",
    "    \n",
    "    # Now calculate the error if we pruned this branch\n",
    "    yes = len(data[(data[data.columns[-1]] == \"Yes\")])\n",
    "    no = len(data[(data[data.columns[-1]] == \"No\")])\n",
    "    \n",
    "    if len(data) == 0:\n",
    "        return average_p\n",
    "    \n",
    "    decision = data.mode().iloc[0, -1]\n",
    "        \n",
    "    corrects = len(data[(data[data.columns[-1]] == decision)])\n",
    "    errors = len(data[(data[data.columns[-1]] != decision)])\n",
    "    \n",
    "    N = corrects + errors\n",
    "    \n",
    "    if N == 0:\n",
    "        N = 1\n",
    "    error_rate = errors / N\n",
    "    p = error_rate + confidence * math.sqrt(error_rate * (1 - error_rate) / N)\n",
    "\n",
    "    real_p = average_p\n",
    "    \n",
    "    if p < average_p:\n",
    "        print(\"Pruning branch {} < {}\".format(p, average_p))\n",
    "        root.children = []\n",
    "        root.is_final_decision = True\n",
    "        root.decision_value = decision\n",
    "        root.attribute_name = \"Final Decision\"\n",
    "        real_p = p\n",
    "    else:\n",
    "        print(\"Not pruning branch {} >= {}\".format(p, average_p))\n",
    "        real_p = average_p\n",
    "    \n",
    "    return real_p"
   ]
  },
  {
   "cell_type": "markdown",
   "metadata": {},
   "source": [
    "Se utiliza el conjunto de validación para verificar la cantidad de errores del árbol. Implícitamente se calcula su matríz de confusión y se ajustan las ramas según el intervalo de confianza requerido.\n",
    "# Se puede modificar la variable `z` si se desea cambiar el intervalo de confianza"
   ]
  },
  {
   "cell_type": "code",
   "execution_count": 15,
   "metadata": {},
   "outputs": [
    {
     "name": "stdout",
     "output_type": "stream",
     "text": [
      "    Outlook  Temperature  Humidity  Windy Play\n",
      "0     Sunny           85        85  False   No\n",
      "1     Sunny           80        90   True   No\n",
      "2  Overcast           83        86  False  Yes\n",
      "3     Rainy           70        96  False  Yes\n",
      "Not pruning branch 0.0 >= 0.0\n",
      "Not pruning branch 0.0 >= 0.0\n",
      "Pruning branch 0.0 < 0.5\n",
      "Not pruning branch 0.0 >= 0.0\n",
      "Not pruning branch 0.75 >= 0.0\n",
      "Not pruning branch 0.75 >= 0.0\n",
      "-- When -Root- is 0 then check Humidity. Prunable: False\n",
      "---- When Humidity is LessEqual 65.0 then Decision: Yes\n",
      "---- When Humidity is GreaterThan 65.0 then check Outlook. Prunable: False\n",
      "------ When Outlook is Rainy then check Windy. Prunable: False\n",
      "-------- When Windy is True then Decision: No\n",
      "-------- When Windy is False then Decision: Yes\n",
      "------ When Outlook is Sunny then check Windy. Prunable: False\n",
      "-------- When Windy is False then check Temperature. Prunable: False\n",
      "---------- When Temperature is LessEqual 69.0 then Decision: Yes\n",
      "---------- When Temperature is GreaterThan 69.0 then Decision: No\n",
      "-------- When Windy is True then Decision: No\n",
      "------ When Outlook is Overcast then Decision: Yes\n"
     ]
    }
   ],
   "source": [
    "print(test_data)\n",
    "z = 1\n",
    "\n",
    "pruned_tree = copy.deepcopy(root)\n",
    "PruneTree(pruned_tree, test_data, z)\n",
    "CompressTree(pruned_tree)\n",
    "PrintTree(pruned_tree)"
   ]
  },
  {
   "cell_type": "markdown",
   "metadata": {},
   "source": [
    "Finalmente se grafica el árbol podado."
   ]
  },
  {
   "cell_type": "code",
   "execution_count": 16,
   "metadata": {
    "scrolled": true
   },
   "outputs": [
    {
     "data": {
      "image/png": "[encoded data removed]",
      "text/plain": [
       "<Figure size 432x288 with 1 Axes>"
      ]
     },
     "metadata": {},
     "output_type": "display_data"
    }
   ],
   "source": [
    "def ContainsPosition(positions, position):\n",
    "    for pos in positions:\n",
    "        if positions[pos] == position:\n",
    "            return True\n",
    "    return False\n",
    "\n",
    "def CalculateNodePositions(root, positions, level=0, siblings=0):\n",
    "    if len(root.children) == 0:\n",
    "        tentative_pos = (5 + 3, level + 8)\n",
    "        while ContainsPosition(positions, tentative_pos):\n",
    "            tentative_pos = (tentative_pos[0] + 3 + 1, level + 8)\n",
    "                               \n",
    "        positions[root] = tentative_pos\n",
    "        #print(\"Node at \" + str(tentative_pos))\n",
    "        return\n",
    "    \n",
    "    for i in range(len(root.children)):\n",
    "        child = root.children[i]\n",
    "        tentative_pos = (i * 5 + 3, level + 8)\n",
    "        while ContainsPosition(positions, tentative_pos):\n",
    "            tentative_pos = (tentative_pos[0] + 3 + 1, level + 8)\n",
    "                               \n",
    "        positions[child] = tentative_pos\n",
    "        #print(\"Node at \" + str(tentative_pos))\n",
    "        CalculateNodePositions(child, positions, level + 8, len(root.children))\n",
    "\n",
    "def ConstructGraph(root, G, labels):\n",
    "    G.add_node(root)\n",
    "    if root.parent is not None:\n",
    "        G.add_edge(root.parent, root)\n",
    "    if root.is_final_decision:\n",
    "        labels[root] = \"{}\".format(root.decision_value)\n",
    "    else:\n",
    "        labels[root] = \"{}\".format(root.attribute_name)\n",
    "    for child in root.children:\n",
    "        ConstructGraph(child, G, labels)\n",
    "\n",
    "positions = {pruned_tree: (0, 0)}\n",
    "CalculateNodePositions(pruned_tree, positions)\n",
    "\n",
    "G = nx.DiGraph()\n",
    "labels = {}\n",
    "ConstructGraph(pruned_tree, G, labels)\n",
    "nx.draw(G, pos=positions, \n",
    "        labels=labels, \n",
    "        with_labels=True,\n",
    "        font_weight='bold',\n",
    "        font_size=8, \n",
    "        node_size=1000)\n",
    "plt.savefig(\"Graph.png\", format=\"PNG\")"
   ]
  },
  {
   "cell_type": "markdown",
   "metadata": {},
   "source": [
    "Usando este conjunto de datos (aunque con una separación diferente en los conjuntos de Prueba/Entrenamiento), la herramienta Weka genera este árbol:\n",
    "\n",
    "```\n",
    "Outlook = Sunny\n",
    "|   Humidity <= 75: Yes (2.0)\n",
    "|   Humidity > 75: No (3.0)\n",
    "Outlook = Overcast: Yes (4.0)\n",
    "Outlook = Rainy\n",
    "|   Windy = False: Yes (3.0)\n",
    "|   Windy = True: No (2.0)\n",
    "```\n",
    "\n",
    "A simple vista el árbol generado por Weka parece diferente al árbol generado por nuestra implementación, sin embargo se observa que nuestro árbol verifica los valores de frontera de la Humedad y Temperatura en algunos casos (condiciones que nunca se cumplirán), considerando el pequeño tamaño del conjunto de entrenamiento (y la configuración de intervalo de confianza usada) las decisiones tomadas con ambos árboles serán equivalentes."
   ]
  },
  {
   "cell_type": "markdown",
   "metadata": {},
   "source": [
    "### Referencias\n",
    "\n",
    "[1] Ocw.mit.edu. (2019). MIT 15.097 Course Notes. [online] Available at: https://ocw.mit.edu/courses/sloan-school-of-management/15-097-prediction-machine-learning-and-statistics-spring-2012/lecture-notes/MIT15_097S12_lec08.pdf [Accessed 17 Mar. 2019].\n",
    "\n",
    "[2] Cao, R. and Xu, L. (2009). Improved C4.5 Algorithm for the Analysis of Sales. 2009 Sixth Web Information Systems and Applications Conference.\n",
    "\n",
    "[3] Quinlan, J. (1996). Improved Use of Continuous Attributes in C4.5. Journal of Artificial Intelligence Research, 4, pp.77-90.\n",
    "\n",
    "[4] Ruggieri, S. (2002). Efficient C4.5 [classification algorithm]. IEEE Transactions on Knowledge and Data Engineering, 14(2), pp.438-444.\n"
   ]
  }
 ],
 "metadata": {
  "kernelspec": {
   "display_name": "Python 3",
   "language": "python",
   "name": "python3"
  },
  "language_info": {
   "codemirror_mode": {
    "name": "ipython",
    "version": 3
   },
   "file_extension": ".py",
   "mimetype": "text/x-python",
   "name": "python",
   "nbconvert_exporter": "python",
   "pygments_lexer": "ipython3",
   "version": "3.7.2"
  }
 },
 "nbformat": 4,
 "nbformat_minor": 2
}
