{
 "cells": [
  {
   "cell_type": "markdown",
   "metadata": {},
   "source": [
    "# INTELIGENCIA ARTIFICIAL - EVALUACIÓN 1\n",
    "Integrantes: Sebastian Racedo y Sebastian Valle"
   ]
  },
  {
   "cell_type": "code",
   "execution_count": null,
   "metadata": {},
   "outputs": [],
   "source": [
    "# Libraries Import\n",
    "import math\n",
    "import pandas as pd"
   ]
  },
  {
   "cell_type": "code",
   "execution_count": null,
   "metadata": {},
   "outputs": [],
   "source": [
    "# Read and split data into training and test sets\n",
    "def SplitData(Raw_Data):\n",
    "    data = pd.read_csv(Raw_Data,sep = ';')\n",
    "    [n,m] = data.shape\n",
    "    X = data.iloc[:,0:m-1]\n",
    "    y = data.iloc[:,m-1]\n",
    "    #print(X.shape)\n",
    "    return X,y"
   ]
  },
  {
   "cell_type": "code",
   "execution_count": null,
   "metadata": {},
   "outputs": [],
   "source": [
    "[X,y] = SplitData(\"data.csv\")\n",
    "X_data = pd.DataFrame(X.values.reshape((X.shape[0],X.shape[1])))\n",
    "y_data = pd.DataFrame(y.values.reshape((y.shape[0], 1))) "
   ]
  },
  {
   "cell_type": "code",
   "execution_count": null,
   "metadata": {},
   "outputs": [],
   "source": [
    "y"
   ]
  },
  {
   "cell_type": "code",
   "execution_count": null,
   "metadata": {},
   "outputs": [],
   "source": [
    "y_data"
   ]
  },
  {
   "cell_type": "code",
   "execution_count": null,
   "metadata": {},
   "outputs": [],
   "source": []
  },
  {
   "cell_type": "code",
   "execution_count": null,
   "metadata": {},
   "outputs": [],
   "source": [
    "def Entropy(ydata):\n",
    "    Size_data = len(ydata)\n",
    "    if Size_data == 0:\n",
    "        return 0\n",
    "    num_classes = [0 for i in ydata.iloc[:,0].dropna().value_counts()]   \n",
    "    num_classes = ydata.iloc[:,0].dropna().value_counts().tolist()\n",
    "    num_classes = [x/Size_data for x in num_classes]\n",
    "    ent = 0\n",
    "    for num in num_classes:\n",
    "        ent += num*math.log(num,2)\n",
    "    return num*-1"
   ]
  },
  {
   "cell_type": "code",
   "execution_count": null,
   "metadata": {},
   "outputs": [],
   "source": [
    "a = Entropy(ydata)\n",
    "print(a)"
   ]
  },
  {
   "cell_type": "code",
   "execution_count": null,
   "metadata": {},
   "outputs": [],
   "source": [
    "# All_Data = X , Subsets = disjoint subsets of All_Data\n",
    "def GainRatio(All_Data, Subsets):\n",
    "    Size_data = len(All_Data)\n",
    "    # Original Entropy\n",
    "    Original_Entropy = Entropy(All_Data)\n",
    "    Weights_Per_Subsets = [len(x)/Size_data for x in Subsets]\n",
    "    Entropy_After_Branch = 0\n",
    "    for x in range(len(Subsets)):\n",
    "        Entropy_After_Branch += Weights_Per_Subsets[x]*Entropy(Subsets[x])\n",
    "    Total_Gain  = Original_Entropy - Entropy_After_Branch\n",
    "    return Total_Gain"
   ]
  },
  {
   "cell_type": "code",
   "execution_count": null,
   "metadata": {},
   "outputs": [],
   "source": []
  },
  {
   "cell_type": "code",
   "execution_count": null,
   "metadata": {},
   "outputs": [],
   "source": []
  },
  {
   "cell_type": "code",
   "execution_count": null,
   "metadata": {},
   "outputs": [],
   "source": []
  }
 ],
 "metadata": {
  "kernelspec": {
   "display_name": "Python 3",
   "language": "python",
   "name": "python3"
  },
  "language_info": {
   "codemirror_mode": {
    "name": "ipython",
    "version": 3
   },
   "file_extension": ".py",
   "mimetype": "text/x-python",
   "name": "python",
   "nbconvert_exporter": "python",
   "pygments_lexer": "ipython3",
   "version": "3.7.0"
  }
 },
 "nbformat": 4,
 "nbformat_minor": 2
}
